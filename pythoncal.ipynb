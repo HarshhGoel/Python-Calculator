{
 "cells": [
  {
   "cell_type": "code",
   "execution_count": null,
   "id": "743180e8",
   "metadata": {},
   "outputs": [
    {
     "name": "stdout",
     "output_type": "stream",
     "text": [
      "Welcome to Python Calculator\n",
      "Select operation\n",
      "For Addition press 1\n",
      "For Subtraction press 2\n",
      "For Divison press 3\n",
      "For Multiplication press 4\n",
      "For Exponent press 5\n",
      "Number cant be zero\n",
      "The answer is None\n"
     ]
    }
   ],
   "source": [
    "#Designing a python Calculator\n",
    "def add(a,b):\n",
    "    return a+b\n",
    "def subtract(a,b):\n",
    "    return a-b\n",
    "def division(a,b):\n",
    "    if b==0:\n",
    "        return\"Number cant be zero\"\n",
    "    else:\n",
    "     return a/b\n",
    "def multiplication(a,b):\n",
    "    return a*b\n",
    "def exponent(a,b):\n",
    "    return a**b\n",
    "def main():\n",
    "\n",
    "    print(f\"\"\"Welcome to Python Calculator\"\"\")\n",
    "    print(\"Select operation\")\n",
    "    print(\"For Addition press 1\")\n",
    "    print(\"For Subtraction press 2\")\n",
    "    print(\"For Divison press 3\")\n",
    "    print(\"For Multiplication press 4\")\n",
    "    print(\"For Exponent press 5\")\n",
    "    try:\n",
    "        inpt=int(input())\n",
    "        inpt1=int(input(\"Enter The Number\"))\n",
    "        inpt2=int(input(\"Enter the Second Number \"))\n",
    "        if inpt==1:\n",
    "            print(f\"The answer is {add(inpt1,inpt2)}\")\n",
    "        elif inpt==2:\n",
    "            print(f\"The answer is {subtract(inpt1,inpt2)}\")\n",
    "        elif inpt==3:\n",
    "            print(f\"The answer is {division(inpt1,inpt2)}\")\n",
    "        elif inpt==4:\n",
    "            print(f\"The answer is {multiplication(inpt1,inpt2)}\")\n",
    "        elif inpt==5:\n",
    "            print(f\"The answer is {exponent(inpt1,inpt2)}\")\n",
    "        else:\n",
    "            print(\"Calculator Exit\")\n",
    "    except Exception as e:\n",
    "        print(\"Invalid input\",e)\n",
    "if __name__==\"__main__\":\n",
    "    main()\n",
    "\n",
    "\n",
    "        \n",
    "        \n",
    "\n",
    "\n",
    "\n",
    "\n",
    "\n",
    "\n",
    "\n",
    "    "
   ]
  },
  {
   "cell_type": "code",
   "execution_count": null,
   "id": "0d0867f5",
   "metadata": {},
   "outputs": [],
   "source": []
  }
 ],
 "metadata": {
  "kernelspec": {
   "display_name": "Python 3",
   "language": "python",
   "name": "python3"
  },
  "language_info": {
   "codemirror_mode": {
    "name": "ipython",
    "version": 3
   },
   "file_extension": ".py",
   "mimetype": "text/x-python",
   "name": "python",
   "nbconvert_exporter": "python",
   "pygments_lexer": "ipython3",
   "version": "3.13.5"
  }
 },
 "nbformat": 4,
 "nbformat_minor": 5
}
